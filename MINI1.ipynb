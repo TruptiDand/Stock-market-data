{
 "cells": [
  {
   "cell_type": "code",
   "execution_count": 1,
   "id": "3a7ae632",
   "metadata": {},
   "outputs": [
    {
     "ename": "NameError",
     "evalue": "name 'apple_df' is not defined",
     "output_type": "error",
     "traceback": [
      "\u001b[1;31m---------------------------------------------------------------------------\u001b[0m",
      "\u001b[1;31mNameError\u001b[0m                                 Traceback (most recent call last)",
      "Cell \u001b[1;32mIn[1], line 2\u001b[0m\n\u001b[0;32m      1\u001b[0m \u001b[38;5;28;01mimport\u001b[39;00m \u001b[38;5;21;01mpandas\u001b[39;00m \u001b[38;5;28;01mas\u001b[39;00m \u001b[38;5;21;01mpd\u001b[39;00m\n\u001b[1;32m----> 2\u001b[0m \u001b[43mapple_df\u001b[49m \u001b[38;5;241m-\u001b[39m pd\u001b[38;5;241m.\u001b[39mread_csv (\u001b[38;5;124mr\u001b[39m\u001b[38;5;124m\"\u001b[39m\u001b[38;5;124mE:\u001b[39m\u001b[38;5;124m\\\u001b[39m\u001b[38;5;124mDSspec\u001b[39m\u001b[38;5;124m\"\u001b[39m)\n\u001b[0;32m      3\u001b[0m amazon_df \u001b[38;5;241m-\u001b[39m pd\u001b[38;5;241m.\u001b[39mread_csv (\u001b[38;5;124mr\u001b[39m\u001b[38;5;124m\"\u001b[39m\u001b[38;5;124mE:\u001b[39m\u001b[38;5;124m\\\u001b[39m\u001b[38;5;124mDSspec\u001b[39m\u001b[38;5;124m\"\u001b[39m)\n\u001b[0;32m      4\u001b[0m google_df \u001b[38;5;241m-\u001b[39m pd\u001b[38;5;241m.\u001b[39mread_csv (\u001b[38;5;124mr\u001b[39m\u001b[38;5;124m\"\u001b[39m\u001b[38;5;124mE:\u001b[39m\u001b[38;5;124m\\\u001b[39m\u001b[38;5;124mDSspec\u001b[39m\u001b[38;5;124m\"\u001b[39m)\n",
      "\u001b[1;31mNameError\u001b[0m: name 'apple_df' is not defined"
     ]
    }
   ],
   "source": [
    "import pandas as pd\n",
    "apple_df - pd.read_csv (r\"E:\\DSspec\")\n",
    "amazon_df - pd.read_csv (r\"E:\\DSspec\")\n",
    "google_df - pd.read_csv (r\"E:\\DSspec\")\n",
    "\n",
    "google_adj_close = google['Adj close']\n",
    "apple_adj_close = apple['Adj close']\n",
    "amazon_adj_close = amazon['Adj close']\n",
    "\n",
    "google_adj_close.dropna(inplace=True)\n",
    "apple_adj_close.dropna(inplace=True)\n",
    "amazon_adj_close.dropna(inplace=True)\n",
    "\n",
    "data = {'Google':google_adj_close, 'Apple':apple_adj_close, 'Amazon':amazon_adj_close}\n",
    "\n",
    "\n",
    "mean_google-data['Google'].mean()\n",
    "median_google-data['Google'].median()\n",
    "std_google-data['Google'].std()\n",
    "\n",
    "mean_apple-data['Apple'].mean()\n",
    "median_apple-data['Apple'].median()\n",
    "std_apple-data['Apple'].std()\n",
    "\n",
    "mean_amazon-data['Amazon'].mean()\n",
    "median_amazon-data['Amazon'].median()\n",
    "std_amazon-data['Amazon'].std()\n",
    "\n",
    "\n",
    "plt.style.use('fivethirtyeight')\n",
    "\n",
    "plt.plot(data['Google'],label='Google',color='r')\n",
    "plt.plot(data['Apple'],label='Apple',color='b')\n",
    "plt.plot(data['Amazon'],label='Amazon',color='g')\n",
    "\n",
    "\n",
    "\n"
   ]
  },
  {
   "cell_type": "code",
   "execution_count": null,
   "id": "4eb421b4",
   "metadata": {},
   "outputs": [],
   "source": []
  }
 ],
 "metadata": {
  "kernelspec": {
   "display_name": "Python 3 (ipykernel)",
   "language": "python",
   "name": "python3"
  },
  "language_info": {
   "codemirror_mode": {
    "name": "ipython",
    "version": 3
   },
   "file_extension": ".py",
   "mimetype": "text/x-python",
   "name": "python",
   "nbconvert_exporter": "python",
   "pygments_lexer": "ipython3",
   "version": "3.9.9"
  }
 },
 "nbformat": 4,
 "nbformat_minor": 5
}
